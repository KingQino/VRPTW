{
 "cells": [
  {
   "cell_type": "markdown",
   "id": "2e1fa1a0",
   "metadata": {},
   "source": [
    "## Preparation\n",
    "\n",
    "We have initialized the data from Solomon's instances, and shown the scatter plot so far. It's time for us to try some solution approaches including exact algorithms and meta-heuritic algorithms. \n",
    "\n",
    "> Here, we are gonna try genetic algorithm first. \n"
   ]
  },
  {
   "cell_type": "code",
   "execution_count": null,
   "id": "13f29840",
   "metadata": {},
   "outputs": [],
   "source": [
    "import os\n",
    "import io\n",
    "import fnmatch\n",
    "from json import load, dump\n",
    "\n",
    "import matplotlib.pyplot as plt\n",
    "import pandas as pd\n",
    "\n",
    "\n",
    "BASE_DIR = os.path.abspath(os.path.dirname(os.path.dirname('.')))\n",
    "text_data_dir = os.path.join(BASE_DIR, 'data', 'solomon-100-original')\n",
    "json_data_dir = os.path.join(BASE_DIR, 'data', 'solomon-100-json')"
   ]
  },
  {
   "cell_type": "code",
   "execution_count": null,
   "id": "802ffcfe",
   "metadata": {},
   "outputs": [],
   "source": []
  }
 ],
 "metadata": {
  "kernelspec": {
   "display_name": "Python 3 (ipykernel)",
   "language": "python",
   "name": "python3"
  },
  "language_info": {
   "codemirror_mode": {
    "name": "ipython",
    "version": 3
   },
   "file_extension": ".py",
   "mimetype": "text/x-python",
   "name": "python",
   "nbconvert_exporter": "python",
   "pygments_lexer": "ipython3",
   "version": "3.9.12"
  }
 },
 "nbformat": 4,
 "nbformat_minor": 5
}
